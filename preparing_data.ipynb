{
 "cells": [
  {
   "cell_type": "markdown",
   "id": "a236d1f5",
   "metadata": {},
   "source": [
    "Датасет содержит только тип активности 'IC50'"
   ]
  },
  {
   "cell_type": "code",
   "execution_count": null,
   "id": "5d443da4",
   "metadata": {},
   "outputs": [
    {
     "data": {
      "text/html": [
       "<div>\n",
       "<style scoped>\n",
       "    .dataframe tbody tr th:only-of-type {\n",
       "        vertical-align: middle;\n",
       "    }\n",
       "\n",
       "    .dataframe tbody tr th {\n",
       "        vertical-align: top;\n",
       "    }\n",
       "\n",
       "    .dataframe thead th {\n",
       "        text-align: right;\n",
       "    }\n",
       "</style>\n",
       "<table border=\"1\" class=\"dataframe\">\n",
       "  <thead>\n",
       "    <tr style=\"text-align: right;\">\n",
       "      <th></th>\n",
       "      <th>Molecule ChEMBL ID</th>\n",
       "      <th>Molecule Name</th>\n",
       "      <th>Molecule Max Phase</th>\n",
       "      <th>Molecular Weight</th>\n",
       "      <th>#RO5 Violations</th>\n",
       "      <th>AlogP</th>\n",
       "      <th>Compound Key</th>\n",
       "      <th>Smiles</th>\n",
       "      <th>Standard Type</th>\n",
       "      <th>Standard Relation</th>\n",
       "      <th>...</th>\n",
       "      <th>Document ChEMBL ID</th>\n",
       "      <th>Source ID</th>\n",
       "      <th>Source Description</th>\n",
       "      <th>Document Journal</th>\n",
       "      <th>Document Year</th>\n",
       "      <th>Cell ChEMBL ID</th>\n",
       "      <th>Properties</th>\n",
       "      <th>Action Type</th>\n",
       "      <th>Standard Text Value</th>\n",
       "      <th>Value</th>\n",
       "    </tr>\n",
       "  </thead>\n",
       "  <tbody>\n",
       "    <tr>\n",
       "      <th>0</th>\n",
       "      <td>CHEMBL1812417</td>\n",
       "      <td>NaN</td>\n",
       "      <td>NaN</td>\n",
       "      <td>425.53</td>\n",
       "      <td>1.0</td>\n",
       "      <td>5.64</td>\n",
       "      <td>37, BSc4050</td>\n",
       "      <td>CCCCCCCCn1c2ccccc2c2cc(CCC(=O)O)c(OCC(=O)O)cc21</td>\n",
       "      <td>IC50</td>\n",
       "      <td>'&gt;'</td>\n",
       "      <td>...</td>\n",
       "      <td>CHEMBL1811865</td>\n",
       "      <td>1</td>\n",
       "      <td>Scientific Literature</td>\n",
       "      <td>Bioorg Med Chem</td>\n",
       "      <td>2011</td>\n",
       "      <td>CHEMBL3308507</td>\n",
       "      <td>NaN</td>\n",
       "      <td>NaN</td>\n",
       "      <td>NaN</td>\n",
       "      <td>80.0</td>\n",
       "    </tr>\n",
       "    <tr>\n",
       "      <th>1</th>\n",
       "      <td>CHEMBL1837051</td>\n",
       "      <td>NaN</td>\n",
       "      <td>NaN</td>\n",
       "      <td>513.55</td>\n",
       "      <td>1.0</td>\n",
       "      <td>4.85</td>\n",
       "      <td>22, enantiomer</td>\n",
       "      <td>O=S(=O)(c1ccc(C(F)(F)F)cc1)N1C2Cc3[nH]ncc3C1CC...</td>\n",
       "      <td>IC50</td>\n",
       "      <td>'='</td>\n",
       "      <td>...</td>\n",
       "      <td>CHEMBL1833811</td>\n",
       "      <td>1</td>\n",
       "      <td>Scientific Literature</td>\n",
       "      <td>Bioorg Med Chem Lett</td>\n",
       "      <td>2011</td>\n",
       "      <td>CHEMBL3307656</td>\n",
       "      <td>NaN</td>\n",
       "      <td>NaN</td>\n",
       "      <td>NaN</td>\n",
       "      <td>36.0</td>\n",
       "    </tr>\n",
       "    <tr>\n",
       "      <th>2</th>\n",
       "      <td>CHEMBL1837047</td>\n",
       "      <td>NaN</td>\n",
       "      <td>NaN</td>\n",
       "      <td>466.46</td>\n",
       "      <td>0.0</td>\n",
       "      <td>4.20</td>\n",
       "      <td>18, enantiomer</td>\n",
       "      <td>O=S(=O)(c1ccc(C(F)(F)F)nc1)N1C2Cc3[nH]ncc3C1CC...</td>\n",
       "      <td>IC50</td>\n",
       "      <td>'='</td>\n",
       "      <td>...</td>\n",
       "      <td>CHEMBL1833811</td>\n",
       "      <td>1</td>\n",
       "      <td>Scientific Literature</td>\n",
       "      <td>Bioorg Med Chem Lett</td>\n",
       "      <td>2011</td>\n",
       "      <td>CHEMBL3307656</td>\n",
       "      <td>NaN</td>\n",
       "      <td>NaN</td>\n",
       "      <td>NaN</td>\n",
       "      <td>4.0</td>\n",
       "    </tr>\n",
       "    <tr>\n",
       "      <th>3</th>\n",
       "      <td>CHEMBL1643424</td>\n",
       "      <td>NaN</td>\n",
       "      <td>NaN</td>\n",
       "      <td>468.48</td>\n",
       "      <td>0.0</td>\n",
       "      <td>4.84</td>\n",
       "      <td>11</td>\n",
       "      <td>COc1cc(-c2nnc3n2CCCN3C(C)c2c(F)cc(F)cc2F)ccc1-...</td>\n",
       "      <td>IC50</td>\n",
       "      <td>'='</td>\n",
       "      <td>...</td>\n",
       "      <td>CHEMBL1641493</td>\n",
       "      <td>1</td>\n",
       "      <td>Scientific Literature</td>\n",
       "      <td>Bioorg Med Chem Lett</td>\n",
       "      <td>2011</td>\n",
       "      <td>CHEMBL3307715</td>\n",
       "      <td>NaN</td>\n",
       "      <td>NaN</td>\n",
       "      <td>NaN</td>\n",
       "      <td>342.0</td>\n",
       "    </tr>\n",
       "    <tr>\n",
       "      <th>4</th>\n",
       "      <td>CHEMBL1643427</td>\n",
       "      <td>NaN</td>\n",
       "      <td>NaN</td>\n",
       "      <td>469.38</td>\n",
       "      <td>1.0</td>\n",
       "      <td>5.16</td>\n",
       "      <td>14</td>\n",
       "      <td>COc1cc(-c2nnc3n2CCCN3Cc2ccc(Cl)c(Cl)c2)ccc1-n1...</td>\n",
       "      <td>IC50</td>\n",
       "      <td>'='</td>\n",
       "      <td>...</td>\n",
       "      <td>CHEMBL1641493</td>\n",
       "      <td>1</td>\n",
       "      <td>Scientific Literature</td>\n",
       "      <td>Bioorg Med Chem Lett</td>\n",
       "      <td>2011</td>\n",
       "      <td>CHEMBL3307715</td>\n",
       "      <td>NaN</td>\n",
       "      <td>NaN</td>\n",
       "      <td>NaN</td>\n",
       "      <td>126.0</td>\n",
       "    </tr>\n",
       "  </tbody>\n",
       "</table>\n",
       "<p>5 rows × 48 columns</p>\n",
       "</div>"
      ],
      "text/plain": [
       "  Molecule ChEMBL ID Molecule Name  Molecule Max Phase  Molecular Weight  \\\n",
       "0      CHEMBL1812417           NaN                 NaN            425.53   \n",
       "1      CHEMBL1837051           NaN                 NaN            513.55   \n",
       "2      CHEMBL1837047           NaN                 NaN            466.46   \n",
       "3      CHEMBL1643424           NaN                 NaN            468.48   \n",
       "4      CHEMBL1643427           NaN                 NaN            469.38   \n",
       "\n",
       "   #RO5 Violations  AlogP    Compound Key  \\\n",
       "0              1.0   5.64     37, BSc4050   \n",
       "1              1.0   4.85  22, enantiomer   \n",
       "2              0.0   4.20  18, enantiomer   \n",
       "3              0.0   4.84              11   \n",
       "4              1.0   5.16              14   \n",
       "\n",
       "                                              Smiles Standard Type  \\\n",
       "0    CCCCCCCCn1c2ccccc2c2cc(CCC(=O)O)c(OCC(=O)O)cc21          IC50   \n",
       "1  O=S(=O)(c1ccc(C(F)(F)F)cc1)N1C2Cc3[nH]ncc3C1CC...          IC50   \n",
       "2  O=S(=O)(c1ccc(C(F)(F)F)nc1)N1C2Cc3[nH]ncc3C1CC...          IC50   \n",
       "3  COc1cc(-c2nnc3n2CCCN3C(C)c2c(F)cc(F)cc2F)ccc1-...          IC50   \n",
       "4  COc1cc(-c2nnc3n2CCCN3Cc2ccc(Cl)c(Cl)c2)ccc1-n1...          IC50   \n",
       "\n",
       "  Standard Relation  ...  Document ChEMBL ID Source ID     Source Description  \\\n",
       "0               '>'  ...       CHEMBL1811865         1  Scientific Literature   \n",
       "1               '='  ...       CHEMBL1833811         1  Scientific Literature   \n",
       "2               '='  ...       CHEMBL1833811         1  Scientific Literature   \n",
       "3               '='  ...       CHEMBL1641493         1  Scientific Literature   \n",
       "4               '='  ...       CHEMBL1641493         1  Scientific Literature   \n",
       "\n",
       "       Document Journal Document Year Cell ChEMBL ID  Properties  Action Type  \\\n",
       "0       Bioorg Med Chem          2011  CHEMBL3308507         NaN          NaN   \n",
       "1  Bioorg Med Chem Lett          2011  CHEMBL3307656         NaN          NaN   \n",
       "2  Bioorg Med Chem Lett          2011  CHEMBL3307656         NaN          NaN   \n",
       "3  Bioorg Med Chem Lett          2011  CHEMBL3307715         NaN          NaN   \n",
       "4  Bioorg Med Chem Lett          2011  CHEMBL3307715         NaN          NaN   \n",
       "\n",
       "   Standard Text Value  Value  \n",
       "0                  NaN   80.0  \n",
       "1                  NaN   36.0  \n",
       "2                  NaN    4.0  \n",
       "3                  NaN  342.0  \n",
       "4                  NaN  126.0  \n",
       "\n",
       "[5 rows x 48 columns]"
      ]
     },
     "execution_count": 7,
     "metadata": {},
     "output_type": "execute_result"
    }
   ],
   "source": [
    "import pandas as pd\n",
    "\n",
    "# Загрузка датасета и вывод первых 5 строк\n",
    "ds = pd.read_csv('dataset.csv', sep=';')\n",
    "ds.head()"
   ]
  },
  {
   "cell_type": "code",
   "execution_count": null,
   "id": "300ee145",
   "metadata": {},
   "outputs": [
    {
     "name": "stdout",
     "output_type": "stream",
     "text": [
      "<class 'pandas.core.frame.DataFrame'>\n",
      "RangeIndex: 3537 entries, 0 to 3536\n",
      "Data columns (total 48 columns):\n",
      " #   Column                      Non-Null Count  Dtype  \n",
      "---  ------                      --------------  -----  \n",
      " 0   Molecule ChEMBL ID          3537 non-null   object \n",
      " 1   Molecule Name               72 non-null     object \n",
      " 2   Molecule Max Phase          47 non-null     float64\n",
      " 3   Molecular Weight            3537 non-null   float64\n",
      " 4   #RO5 Violations             3446 non-null   float64\n",
      " 5   AlogP                       3446 non-null   float64\n",
      " 6   Compound Key                3537 non-null   object \n",
      " 7   Smiles                      3537 non-null   object \n",
      " 8   Standard Type               3537 non-null   object \n",
      " 9   Standard Relation           3507 non-null   object \n",
      " 10  Standard Value              3507 non-null   float64\n",
      " 11  Standard Units              3508 non-null   object \n",
      " 12  pChEMBL Value               3147 non-null   float64\n",
      " 13  Data Validity Comment       13 non-null     object \n",
      " 14  Comment                     30 non-null     object \n",
      " 15  Uo Units                    3508 non-null   object \n",
      " 16  Ligand Efficiency BEI       3014 non-null   float64\n",
      " 17  Ligand Efficiency LE        2947 non-null   float64\n",
      " 18  Ligand Efficiency LLE       2947 non-null   float64\n",
      " 19  Ligand Efficiency SEI       2947 non-null   float64\n",
      " 20  Potential Duplicate         3537 non-null   int64  \n",
      " 21  Assay ChEMBL ID             3537 non-null   object \n",
      " 22  Assay Description           3537 non-null   object \n",
      " 23  Assay Type                  3537 non-null   object \n",
      " 24  BAO Format ID               3537 non-null   object \n",
      " 25  BAO Label                   3537 non-null   object \n",
      " 26  Assay Organism              3432 non-null   object \n",
      " 27  Assay Tissue ChEMBL ID      0 non-null      float64\n",
      " 28  Assay Tissue Name           0 non-null      float64\n",
      " 29  Assay Cell Type             2789 non-null   object \n",
      " 30  Assay Subcellular Fraction  1 non-null      object \n",
      " 31  Assay Parameters            0 non-null      float64\n",
      " 32  Assay Variant Accession     0 non-null      float64\n",
      " 33  Assay Variant Mutation      0 non-null      float64\n",
      " 34  Target ChEMBL ID            3537 non-null   object \n",
      " 35  Target Name                 3537 non-null   object \n",
      " 36  Target Organism             3537 non-null   object \n",
      " 37  Target Type                 3537 non-null   object \n",
      " 38  Document ChEMBL ID          3537 non-null   object \n",
      " 39  Source ID                   3537 non-null   int64  \n",
      " 40  Source Description          3537 non-null   object \n",
      " 41  Document Journal            3537 non-null   object \n",
      " 42  Document Year               3537 non-null   int64  \n",
      " 43  Cell ChEMBL ID              2480 non-null   object \n",
      " 44  Properties                  123 non-null    object \n",
      " 45  Action Type                 155 non-null    object \n",
      " 46  Standard Text Value         0 non-null      float64\n",
      " 47  Value                       3507 non-null   float64\n",
      "dtypes: float64(17), int64(3), object(28)\n",
      "memory usage: 1.3+ MB\n"
     ]
    }
   ],
   "source": [
    "# Вывод информации по каждому столбцу датасета\n",
    "ds.info()"
   ]
  },
  {
   "cell_type": "markdown",
   "id": "e9dd9987",
   "metadata": {},
   "source": [
    "Оставим только те колонки, которые отражают биологическую активность молекул:  \n",
    " 7   Smiles                      3537 non-null   object  \n",
    " 9   Standard Relation           3507 non-null   object  \n",
    " 10  Standard Value              3507 non-null   float64  \n",
    " 11  Standard Units              3508 non-null   object  "
   ]
  },
  {
   "cell_type": "code",
   "execution_count": null,
   "id": "32634451",
   "metadata": {},
   "outputs": [
    {
     "data": {
      "text/html": [
       "<div>\n",
       "<style scoped>\n",
       "    .dataframe tbody tr th:only-of-type {\n",
       "        vertical-align: middle;\n",
       "    }\n",
       "\n",
       "    .dataframe tbody tr th {\n",
       "        vertical-align: top;\n",
       "    }\n",
       "\n",
       "    .dataframe thead th {\n",
       "        text-align: right;\n",
       "    }\n",
       "</style>\n",
       "<table border=\"1\" class=\"dataframe\">\n",
       "  <thead>\n",
       "    <tr style=\"text-align: right;\">\n",
       "      <th></th>\n",
       "      <th>Smiles</th>\n",
       "      <th>Standard Relation</th>\n",
       "      <th>Standard Value</th>\n",
       "      <th>Standard Units</th>\n",
       "    </tr>\n",
       "  </thead>\n",
       "  <tbody>\n",
       "    <tr>\n",
       "      <th>0</th>\n",
       "      <td>CCCCCCCCn1c2ccccc2c2cc(CCC(=O)O)c(OCC(=O)O)cc21</td>\n",
       "      <td>'&gt;'</td>\n",
       "      <td>80000.0</td>\n",
       "      <td>nM</td>\n",
       "    </tr>\n",
       "    <tr>\n",
       "      <th>1</th>\n",
       "      <td>O=S(=O)(c1ccc(C(F)(F)F)cc1)N1C2Cc3[nH]ncc3C1CC...</td>\n",
       "      <td>'='</td>\n",
       "      <td>36.0</td>\n",
       "      <td>nM</td>\n",
       "    </tr>\n",
       "    <tr>\n",
       "      <th>2</th>\n",
       "      <td>O=S(=O)(c1ccc(C(F)(F)F)nc1)N1C2Cc3[nH]ncc3C1CC...</td>\n",
       "      <td>'='</td>\n",
       "      <td>4.0</td>\n",
       "      <td>nM</td>\n",
       "    </tr>\n",
       "    <tr>\n",
       "      <th>3</th>\n",
       "      <td>COc1cc(-c2nnc3n2CCCN3C(C)c2c(F)cc(F)cc2F)ccc1-...</td>\n",
       "      <td>'='</td>\n",
       "      <td>342.0</td>\n",
       "      <td>nM</td>\n",
       "    </tr>\n",
       "    <tr>\n",
       "      <th>4</th>\n",
       "      <td>COc1cc(-c2nnc3n2CCCN3Cc2ccc(Cl)c(Cl)c2)ccc1-n1...</td>\n",
       "      <td>'='</td>\n",
       "      <td>126.0</td>\n",
       "      <td>nM</td>\n",
       "    </tr>\n",
       "  </tbody>\n",
       "</table>\n",
       "</div>"
      ],
      "text/plain": [
       "                                              Smiles Standard Relation  \\\n",
       "0    CCCCCCCCn1c2ccccc2c2cc(CCC(=O)O)c(OCC(=O)O)cc21               '>'   \n",
       "1  O=S(=O)(c1ccc(C(F)(F)F)cc1)N1C2Cc3[nH]ncc3C1CC...               '='   \n",
       "2  O=S(=O)(c1ccc(C(F)(F)F)nc1)N1C2Cc3[nH]ncc3C1CC...               '='   \n",
       "3  COc1cc(-c2nnc3n2CCCN3C(C)c2c(F)cc(F)cc2F)ccc1-...               '='   \n",
       "4  COc1cc(-c2nnc3n2CCCN3Cc2ccc(Cl)c(Cl)c2)ccc1-n1...               '='   \n",
       "\n",
       "   Standard Value Standard Units  \n",
       "0         80000.0             nM  \n",
       "1            36.0             nM  \n",
       "2             4.0             nM  \n",
       "3           342.0             nM  \n",
       "4           126.0             nM  "
      ]
     },
     "execution_count": 11,
     "metadata": {},
     "output_type": "execute_result"
    }
   ],
   "source": [
    "# Создание нового DataFrame с выбранными столбцами и вывод первых 5 строк\n",
    "df = ds[['Smiles', 'Standard Relation', 'Standard Value', 'Standard Units']]\n",
    "df.head()"
   ]
  },
  {
   "cell_type": "markdown",
   "id": "415b7c62",
   "metadata": {},
   "source": [
    "Выведем все единицы отношений относительно Standart Value и измерения значения Standart Value и их количество"
   ]
  },
  {
   "cell_type": "code",
   "execution_count": 12,
   "id": "5d69157e",
   "metadata": {},
   "outputs": [
    {
     "data": {
      "text/plain": [
       "Standard Relation\n",
       "'='     3159\n",
       "'>'      345\n",
       "'>='       2\n",
       "'<'        1\n",
       "Name: count, dtype: int64"
      ]
     },
     "execution_count": 12,
     "metadata": {},
     "output_type": "execute_result"
    }
   ],
   "source": [
    "df.value_counts('Standard Relation')"
   ]
  },
  {
   "cell_type": "code",
   "execution_count": 13,
   "id": "7a92038a",
   "metadata": {},
   "outputs": [
    {
     "name": "stdout",
     "output_type": "stream",
     "text": [
      "Standard Units\n",
      "nM    3508\n",
      "Name: count, dtype: int64\n"
     ]
    }
   ],
   "source": [
    "print(df.value_counts('Standard Units'))"
   ]
  },
  {
   "cell_type": "markdown",
   "id": "d5e3c9d5",
   "metadata": {},
   "source": [
    "Оставим только те записи, у которых Standart Relation равен '='"
   ]
  },
  {
   "cell_type": "code",
   "execution_count": 16,
   "id": "44fdd5db",
   "metadata": {},
   "outputs": [
    {
     "name": "stdout",
     "output_type": "stream",
     "text": [
      "Количество отфильтрованных записей: 3159\n"
     ]
    }
   ],
   "source": [
    "df_filtered = df[df['Standard Relation'] == \"'='\"]\n",
    "print(f'Количество отфильтрованных записей: {len(df_filtered)}')"
   ]
  },
  {
   "cell_type": "markdown",
   "id": "0c9b8c30",
   "metadata": {},
   "source": [
    "Удаление дубликатов и пропущенных значений"
   ]
  },
  {
   "cell_type": "code",
   "execution_count": null,
   "id": "ff481cd1",
   "metadata": {},
   "outputs": [
    {
     "name": "stdout",
     "output_type": "stream",
     "text": [
      "Количество записей без дубликатов и пропущенных значений: 3041\n"
     ]
    }
   ],
   "source": [
    "df_filtered = df_filtered.drop_duplicates() # удаление дубликатов\n",
    "df_filtered = df_filtered.dropna() # удаление пропущенных значений\n",
    "print(f'Количество записей без дубликатов и пропущенных значений: {len(df_filtered)}')"
   ]
  },
  {
   "cell_type": "code",
   "execution_count": 18,
   "id": "d3935fba",
   "metadata": {},
   "outputs": [
    {
     "name": "stdout",
     "output_type": "stream",
     "text": [
      "Collecting rdkit\n",
      "  Downloading rdkit-2025.3.3-cp311-cp311-win_amd64.whl.metadata (4.1 kB)\n",
      "Requirement already satisfied: numpy in c:\\users\\nastj\\appdata\\local\\programs\\python\\python311\\lib\\site-packages (from rdkit) (2.3.1)\n",
      "Requirement already satisfied: Pillow in c:\\users\\nastj\\appdata\\local\\programs\\python\\python311\\lib\\site-packages (from rdkit) (11.3.0)\n",
      "Downloading rdkit-2025.3.3-cp311-cp311-win_amd64.whl (22.4 MB)\n",
      "   ---------------------------------------- 0.0/22.4 MB ? eta -:--:--\n",
      "   ---------------------------------------- 0.3/22.4 MB ? eta -:--:--\n",
      "   ----- ---------------------------------- 2.9/22.4 MB 12.0 MB/s eta 0:00:02\n",
      "   ----------------- ---------------------- 9.7/22.4 MB 21.5 MB/s eta 0:00:01\n",
      "   --------------------------------- ------ 18.6/22.4 MB 28.6 MB/s eta 0:00:01\n",
      "   ---------------------------------------- 22.4/22.4 MB 27.3 MB/s eta 0:00:00\n",
      "Installing collected packages: rdkit\n",
      "Successfully installed rdkit-2025.3.3\n"
     ]
    }
   ],
   "source": [
    "# установка библиотеки rdkit\n",
    "! pip install rdkit"
   ]
  },
  {
   "cell_type": "markdown",
   "id": "737851f2",
   "metadata": {},
   "source": [
    "Проверка корретктности молекул"
   ]
  },
  {
   "cell_type": "code",
   "execution_count": 20,
   "id": "7d441d23",
   "metadata": {},
   "outputs": [
    {
     "name": "stdout",
     "output_type": "stream",
     "text": [
      "Количество записей с валидными SMILE: 3041\n"
     ]
    }
   ],
   "source": [
    "from rdkit import Chem\n",
    "\n",
    "def is_valid_smiles(smile):\n",
    "    mol = Chem.MolFromSmiles(smile)\n",
    "    return mol is not None\n",
    "\n",
    "df_filtered = df_filtered[df_filtered['Smiles'].apply(is_valid_smiles)]\n",
    "print(f'Количество записей с валидными SMILE: {len(df_filtered)}')"
   ]
  },
  {
   "cell_type": "markdown",
   "id": "4e7784cc",
   "metadata": {},
   "source": [
    "Сохранение предварительно обработанного датасета"
   ]
  },
  {
   "cell_type": "code",
   "execution_count": 21,
   "id": "e9fbd15c",
   "metadata": {},
   "outputs": [],
   "source": [
    "df_filtered.to_csv('dataset_filtered.csv', index=False)"
   ]
  }
 ],
 "metadata": {
  "kernelspec": {
   "display_name": "Python 3",
   "language": "python",
   "name": "python3"
  },
  "language_info": {
   "codemirror_mode": {
    "name": "ipython",
    "version": 3
   },
   "file_extension": ".py",
   "mimetype": "text/x-python",
   "name": "python",
   "nbconvert_exporter": "python",
   "pygments_lexer": "ipython3",
   "version": "3.11.9"
  }
 },
 "nbformat": 4,
 "nbformat_minor": 5
}
